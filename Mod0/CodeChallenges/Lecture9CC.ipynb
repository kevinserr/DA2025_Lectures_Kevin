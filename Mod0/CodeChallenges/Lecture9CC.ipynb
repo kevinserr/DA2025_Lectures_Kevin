{
 "cells": [
  {
   "cell_type": "markdown",
   "metadata": {},
   "source": [
    "## Code Challenge 9: Working with Nested JSON (Movie Streaming Data)\n",
    "\n",
    "### Overview\n",
    "\n",
    "- Objective: Work with a nested JSON dataset (similar to movie streaming data) to extract and manipulate information.\n",
    "\n",
    "### Skills Practiced: \n",
    "- Parsing JSON data into Python objects.\n",
    "- Accessing nested keys and values.\n",
    "- Using for loops to iterate through JSON structures.\n",
    "- Understanding the relationship between keys and values in JSON.\n",
    "\n",
    "### Tasks\n",
    "\n",
    "1. Load the JSON Data (View Documentation [HERE](https://docs.python.org/3/library/json.html))\n",
    "\n",
    "2. Extract Movie Titles:\n",
    "- Write a loop to extract and print the titles of all movies.\n",
    "3. Extract Movies by Genre:\n",
    "- Write a function that takes a genre as input and returns all movies in that genre.\n",
    "4. Calculate Average IMDb Rating:\n",
    "- Write a loop to calculate the average IMDb rating of all movies.\n",
    "5. Find the Highest Rated Movie (IMDb):\n",
    "- Write a loop to find the movie with the highest IMDb rating.\n"
   ]
  },
  {
   "cell_type": "code",
   "execution_count": 5,
   "metadata": {},
   "outputs": [],
   "source": [
    "# Run this cell without changes (this is the DATA)\n",
    "\n",
    "data = {\n",
    "  \"movies\": [\n",
    "    {\n",
    "      \"title\": \"Inception\",\n",
    "      \"genre\": \"Sci-Fi\",\n",
    "      \"ratings\": {\n",
    "        \"IMDb\": 8.8,\n",
    "        \"Rotten Tomatoes\": 87\n",
    "      }\n",
    "    },\n",
    "    {\n",
    "      \"title\": \"The Dark Knight\",\n",
    "      \"genre\": \"Action\",\n",
    "      \"ratings\": {\n",
    "        \"IMDb\": 9.0,\n",
    "        \"Rotten Tomatoes\": 94\n",
    "      }\n",
    "    },\n",
    "    {\n",
    "      \"title\": \"Interstellar\",\n",
    "      \"genre\": \"Sci-Fi\",\n",
    "      \"ratings\": {\n",
    "        \"IMDb\": 8.6,\n",
    "        \"Rotten Tomatoes\": 72\n",
    "      }\n",
    "    },\n",
    "    {\n",
    "      \"title\": \"The Godfather\",\n",
    "      \"genre\": \"Drama\",\n",
    "      \"ratings\": {\n",
    "        \"IMDb\": 9.2,\n",
    "        \"Rotten Tomatoes\": 98\n",
    "      }\n",
    "    }\n",
    "  ]\n",
    "}"
   ]
  },
  {
   "cell_type": "code",
   "execution_count": 6,
   "metadata": {},
   "outputs": [],
   "source": [
    "# Import the JSON module\n",
    "import json "
   ]
  },
  {
   "cell_type": "code",
   "execution_count": 12,
   "metadata": {},
   "outputs": [
    {
     "name": "stdout",
     "output_type": "stream",
     "text": [
      "Movie Titles: Inception\n",
      "Movie Titles: The Dark Knight\n",
      "Movie Titles: Interstellar\n",
      "Movie Titles: The Godfather\n"
     ]
    }
   ],
   "source": [
    "# Step 1: Extract Movie Titles\n",
    "# Write a loop to extract and print the titles of all movies\n",
    "for movie in data[\"movies\"]:\n",
    "    print(\"Movie Titles:\", movie['title'])"
   ]
  },
  {
   "cell_type": "code",
   "execution_count": null,
   "metadata": {},
   "outputs": [
    {
     "name": "stdout",
     "output_type": "stream",
     "text": [
      "['The Dark Knight']\n",
      "['Inception', 'Interstellar']\n"
     ]
    }
   ],
   "source": [
    "# Step 2: Extract Movies by Genre\n",
    "# Write a function to find all movies in a specific genre\n",
    "# None: Replace this with a loop to find movies in the given genre\n",
    "\n",
    "def find_movies_by_genre(genre):\n",
    "    movies_in_genre = []\n",
    "    for movie in data['movies']:\n",
    "        if movie['genre'] == genre:\n",
    "            movies_in_genre.append(movie['title'])\n",
    "    return movies_in_genre\n"
   ]
  },
  {
   "cell_type": "code",
   "execution_count": 27,
   "metadata": {},
   "outputs": [
    {
     "name": "stdout",
     "output_type": "stream",
     "text": [
      "['Inception', 'Interstellar']\n"
     ]
    }
   ],
   "source": [
    "# Test the function run this cell without changes\n",
    "genre = \"Sci-Fi\"\n",
    "\n",
    "print(find_movies_by_genre(genre))\n"
   ]
  },
  {
   "cell_type": "code",
   "execution_count": 34,
   "metadata": {},
   "outputs": [
    {
     "name": "stdout",
     "output_type": "stream",
     "text": [
      "Average IMDb Rating: 8.899999999999999\n"
     ]
    }
   ],
   "source": [
    "# Step 3: Calculate Average IMDb Rating\n",
    "# Write a loop to calculate the average IMDb rating of all movies\n",
    "# Replace this with a loop to calculate the total IMDb rating and count of movies\n",
    "total_rating = 0\n",
    "movie_count = 0\n",
    "for movie in data['movies']:\n",
    "    #print(movie[\"ratings\"]['IMDb'])\n",
    "    total_rating += movie[\"ratings\"][\"IMDb\"] \n",
    "    movie_count += 1\n",
    "average_rating = total_rating/movie_count  # Replace this with the formula to calculate the average\n",
    "print(\"Average IMDb Rating:\", average_rating)"
   ]
  },
  {
   "cell_type": "code",
   "execution_count": 46,
   "metadata": {},
   "outputs": [
    {
     "name": "stdout",
     "output_type": "stream",
     "text": [
      "Highest Rated Movie (IMDb): The Godfather\n"
     ]
    }
   ],
   "source": [
    "# Step 4: Find the Highest Rated Movie (IMDb)\n",
    "# Write a loop to find the movie with the highest IMDb rating\n",
    "# Replace this with a loop to find the highest-rated movie\n",
    "highest_rating = 0\n",
    "for movie in data['movies']:\n",
    "    if movie[\"ratings\"][\"IMDb\"] > highest_rating:\n",
    "        highest_rating = movie[\"ratings\"][\"IMDb\"]\n",
    "        highest_rated_movie = movie['title']\n",
    "print(\"Highest Rated Movie (IMDb):\", highest_rated_movie)"
   ]
  }
 ],
 "metadata": {
  "kernelspec": {
   "display_name": "data-analysis-env",
   "language": "python",
   "name": "python3"
  },
  "language_info": {
   "codemirror_mode": {
    "name": "ipython",
    "version": 3
   },
   "file_extension": ".py",
   "mimetype": "text/x-python",
   "name": "python",
   "nbconvert_exporter": "python",
   "pygments_lexer": "ipython3",
   "version": "3.9.22"
  }
 },
 "nbformat": 4,
 "nbformat_minor": 2
}
