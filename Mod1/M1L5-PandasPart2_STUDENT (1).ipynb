{
 "cells": [
  {
   "cell_type": "markdown",
   "metadata": {},
   "source": [
    "# M1L5 Pandas Part 2 Data Challenge:  EDA\n",
    "\n",
    "## Scenario\n",
    "\n",
    "We'll be working with a real-world dataset from the NYC Open Data portal, focusing on the leading causes of death in New York City (same as data challenge 4). This dataset provides valuable insights into public health trends and disparities. Understanding this data is crucial for community advocacy and policy-making.\n",
    "\n",
    "For more information about the data (which is highly recommended) here is the [Link to the Data](https://data.cityofnewyork.us/Health/New-York-City-Leading-Causes-of-Death/jb7j-dtam/about_data)\n",
    "\n",
    "## Objectives \n",
    "- Group and Aggregate Data\n",
    "- Create a contingency table with `crosstab()`\n",
    "- Check for duplicated data (remember not all duplicated data needs to be dropped)\n",
    "\n",
    "**Let's get started!**"
   ]
  },
  {
   "cell_type": "markdown",
   "metadata": {},
   "source": [
    "### Step 1:  Import Pandas & Numpy"
   ]
  },
  {
   "cell_type": "code",
   "execution_count": 1,
   "metadata": {},
   "outputs": [],
   "source": [
    "# Import Pandas & Numpy\n",
    "import pandas as pd\n",
    "import numpy as np"
   ]
  },
  {
   "cell_type": "markdown",
   "metadata": {},
   "source": [
    "### Step 2: Load the dataset (csv file stored in the data folder) into a Pandas DataFrame. The file is called:  `nyc_causeofdeath.csv`\n"
   ]
  },
  {
   "cell_type": "code",
   "execution_count": 2,
   "metadata": {},
   "outputs": [],
   "source": [
    "df = pd.read_csv(\"/Users/Marcy_Student/desktop/marcy/DA2025_Lectures_Kevin/data/New_York_City_Leading_Causes_of_Death_20250605.csv\",delimiter=\",\")"
   ]
  },
  {
   "cell_type": "markdown",
   "metadata": {},
   "source": [
    "### Step 3: Check the information of the data (column names, data types, size, etc.)\n"
   ]
  },
  {
   "cell_type": "code",
   "execution_count": null,
   "metadata": {},
   "outputs": [
    {
     "data": {
      "text/plain": [
       "7658"
      ]
     },
     "execution_count": 6,
     "metadata": {},
     "output_type": "execute_result"
    }
   ],
   "source": [
    "df.dtypes"
   ]
  },
  {
   "cell_type": "markdown",
   "metadata": {},
   "source": [
    "### Step 4:  We need to change Deaths from an object to an integer so that we can do some MATH (you will learn this officially later) for now just run the cell below.\n"
   ]
  },
  {
   "cell_type": "code",
   "execution_count": 9,
   "metadata": {},
   "outputs": [
    {
     "data": {
      "text/plain": [
       "Index(['Year', 'Leading Cause', 'Sex', 'Race Ethnicity', 'Deaths',\n",
       "       'Death Rate', 'Age Adjusted Death Rate'],\n",
       "      dtype='object')"
      ]
     },
     "execution_count": 9,
     "metadata": {},
     "output_type": "execute_result"
    }
   ],
   "source": [
    "#Run this cell without changes \n",
    "df['Deaths'] = df['Deaths'].replace('.', np.nan)\n",
    "df['Deaths'] = pd.to_numeric(df['Deaths'])\n",
    "df.keys()"
   ]
  },
  {
   "cell_type": "markdown",
   "metadata": {},
   "source": [
    "### Step 5:  Create code to get the sum of deaths by Sex -- what Sex has the most deaths based on this data (add a comment in the cell with your answer)"
   ]
  },
  {
   "cell_type": "code",
   "execution_count": 12,
   "metadata": {},
   "outputs": [
    {
     "name": "stdout",
     "output_type": "stream",
     "text": [
      "Sex\n",
      "F    217071.0\n",
      "M    207927.0\n",
      "Name: Deaths, dtype: float64\n"
     ]
    }
   ],
   "source": [
    "deaths_by_sex = df.groupby('Sex')['Deaths'].sum()\n",
    "print(deaths_by_sex)"
   ]
  },
  {
   "cell_type": "markdown",
   "metadata": {},
   "source": [
    "Females have more deaths with 217,071 and Males 207,927"
   ]
  },
  {
   "cell_type": "markdown",
   "metadata": {},
   "source": [
    "### Step 6:  Now create a contingency table (using `crosstab()`) of the Leading Cause of Death by Sex -- put a comment in the cell of a takeaway from the output "
   ]
  },
  {
   "cell_type": "code",
   "execution_count": 14,
   "metadata": {},
   "outputs": [
    {
     "data": {
      "text/html": [
       "<div>\n",
       "<style scoped>\n",
       "    .dataframe tbody tr th:only-of-type {\n",
       "        vertical-align: middle;\n",
       "    }\n",
       "\n",
       "    .dataframe tbody tr th {\n",
       "        vertical-align: top;\n",
       "    }\n",
       "\n",
       "    .dataframe thead th {\n",
       "        text-align: right;\n",
       "    }\n",
       "</style>\n",
       "<table border=\"1\" class=\"dataframe\">\n",
       "  <thead>\n",
       "    <tr style=\"text-align: right;\">\n",
       "      <th>Sex</th>\n",
       "      <th>F</th>\n",
       "      <th>M</th>\n",
       "    </tr>\n",
       "    <tr>\n",
       "      <th>Leading Cause</th>\n",
       "      <th></th>\n",
       "      <th></th>\n",
       "    </tr>\n",
       "  </thead>\n",
       "  <tbody>\n",
       "    <tr>\n",
       "      <th>Accidents Except Drug Posioning (V01-X39, X43, X45-X59, Y85-Y86)</th>\n",
       "      <td>35</td>\n",
       "      <td>45</td>\n",
       "    </tr>\n",
       "    <tr>\n",
       "      <th>All Other Causes</th>\n",
       "      <td>48</td>\n",
       "      <td>48</td>\n",
       "    </tr>\n",
       "    <tr>\n",
       "      <th>Alzheimer's Disease (G30)</th>\n",
       "      <td>31</td>\n",
       "      <td>1</td>\n",
       "    </tr>\n",
       "    <tr>\n",
       "      <th>Aortic Aneurysm and Dissection (I71)</th>\n",
       "      <td>2</td>\n",
       "      <td>1</td>\n",
       "    </tr>\n",
       "    <tr>\n",
       "      <th>Assault (Homicide: Y87.1, X85-Y09)</th>\n",
       "      <td>3</td>\n",
       "      <td>17</td>\n",
       "    </tr>\n",
       "    <tr>\n",
       "      <th>Atherosclerosis (I70)</th>\n",
       "      <td>3</td>\n",
       "      <td>0</td>\n",
       "    </tr>\n",
       "    <tr>\n",
       "      <th>Cerebrovascular Disease (Stroke: I60-I69)</th>\n",
       "      <td>48</td>\n",
       "      <td>42</td>\n",
       "    </tr>\n",
       "    <tr>\n",
       "      <th>Certain Conditions originating in the Perinatal Period (P00-P96)</th>\n",
       "      <td>13</td>\n",
       "      <td>13</td>\n",
       "    </tr>\n",
       "    <tr>\n",
       "      <th>Chronic Liver Disease and Cirrhosis (K70, K73)</th>\n",
       "      <td>8</td>\n",
       "      <td>21</td>\n",
       "    </tr>\n",
       "    <tr>\n",
       "      <th>Chronic Lower Respiratory Diseases (J40-J47)</th>\n",
       "      <td>45</td>\n",
       "      <td>43</td>\n",
       "    </tr>\n",
       "    <tr>\n",
       "      <th>Congenital Malformations, Deformations, and Chromosomal Abnormalities (Q00-Q99)</th>\n",
       "      <td>6</td>\n",
       "      <td>2</td>\n",
       "    </tr>\n",
       "    <tr>\n",
       "      <th>Diabetes Mellitus (E10-E14)</th>\n",
       "      <td>47</td>\n",
       "      <td>45</td>\n",
       "    </tr>\n",
       "    <tr>\n",
       "      <th>Diseases of Heart (I00-I09, I11, I13, I20-I51)</th>\n",
       "      <td>48</td>\n",
       "      <td>48</td>\n",
       "    </tr>\n",
       "    <tr>\n",
       "      <th>Essential Hypertension and Renal Diseases (I10, I12)</th>\n",
       "      <td>46</td>\n",
       "      <td>29</td>\n",
       "    </tr>\n",
       "    <tr>\n",
       "      <th>Human Immunodeficiency Virus Disease (HIV: B20-B24)</th>\n",
       "      <td>17</td>\n",
       "      <td>26</td>\n",
       "    </tr>\n",
       "    <tr>\n",
       "      <th>Influenza (Flu) and Pneumonia (J09-J18)</th>\n",
       "      <td>48</td>\n",
       "      <td>48</td>\n",
       "    </tr>\n",
       "    <tr>\n",
       "      <th>Insitu or Benign / Uncertain Neoplasms (D00-D48)</th>\n",
       "      <td>5</td>\n",
       "      <td>0</td>\n",
       "    </tr>\n",
       "    <tr>\n",
       "      <th>Intentional Self-Harm (Suicide: X60-X84, Y87.0)</th>\n",
       "      <td>12</td>\n",
       "      <td>26</td>\n",
       "    </tr>\n",
       "    <tr>\n",
       "      <th>Malignant Neoplasms (Cancer: C00-C97)</th>\n",
       "      <td>48</td>\n",
       "      <td>48</td>\n",
       "    </tr>\n",
       "    <tr>\n",
       "      <th>Mental and Behavioral Disorders due to Accidental Poisoning and Other Psychoactive Substance Use (F11-F16, F18-F19, X40-X42, X44)</th>\n",
       "      <td>12</td>\n",
       "      <td>27</td>\n",
       "    </tr>\n",
       "    <tr>\n",
       "      <th>Mental and Behavioral Disorders due to Use of Alcohol (F10)</th>\n",
       "      <td>0</td>\n",
       "      <td>2</td>\n",
       "    </tr>\n",
       "    <tr>\n",
       "      <th>Nephritis, Nephrotic Syndrome and Nephrisis (N00-N07, N17-N19, N25-N27)</th>\n",
       "      <td>14</td>\n",
       "      <td>3</td>\n",
       "    </tr>\n",
       "    <tr>\n",
       "      <th>Parkinson's Disease (G20)</th>\n",
       "      <td>1</td>\n",
       "      <td>0</td>\n",
       "    </tr>\n",
       "    <tr>\n",
       "      <th>Septicemia (A40-A41)</th>\n",
       "      <td>11</td>\n",
       "      <td>2</td>\n",
       "    </tr>\n",
       "    <tr>\n",
       "      <th>Tuberculosis (A16-A19)</th>\n",
       "      <td>1</td>\n",
       "      <td>0</td>\n",
       "    </tr>\n",
       "    <tr>\n",
       "      <th>Viral Hepatitis (B15-B19)</th>\n",
       "      <td>2</td>\n",
       "      <td>3</td>\n",
       "    </tr>\n",
       "  </tbody>\n",
       "</table>\n",
       "</div>"
      ],
      "text/plain": [
       "Sex                                                  F   M\n",
       "Leading Cause                                             \n",
       "Accidents Except Drug Posioning (V01-X39, X43, ...  35  45\n",
       "All Other Causes                                    48  48\n",
       "Alzheimer's Disease (G30)                           31   1\n",
       "Aortic Aneurysm and Dissection (I71)                 2   1\n",
       "Assault (Homicide: Y87.1, X85-Y09)                   3  17\n",
       "Atherosclerosis (I70)                                3   0\n",
       "Cerebrovascular Disease (Stroke: I60-I69)           48  42\n",
       "Certain Conditions originating in the Perinatal...  13  13\n",
       "Chronic Liver Disease and Cirrhosis (K70, K73)       8  21\n",
       "Chronic Lower Respiratory Diseases (J40-J47)        45  43\n",
       "Congenital Malformations, Deformations, and Chr...   6   2\n",
       "Diabetes Mellitus (E10-E14)                         47  45\n",
       "Diseases of Heart (I00-I09, I11, I13, I20-I51)      48  48\n",
       "Essential Hypertension and Renal Diseases (I10,...  46  29\n",
       "Human Immunodeficiency Virus Disease (HIV: B20-...  17  26\n",
       "Influenza (Flu) and Pneumonia (J09-J18)             48  48\n",
       "Insitu or Benign / Uncertain Neoplasms (D00-D48)     5   0\n",
       "Intentional Self-Harm (Suicide: X60-X84, Y87.0)     12  26\n",
       "Malignant Neoplasms (Cancer: C00-C97)               48  48\n",
       "Mental and Behavioral Disorders due to Accident...  12  27\n",
       "Mental and Behavioral Disorders due to Use of A...   0   2\n",
       "Nephritis, Nephrotic Syndrome and Nephrisis (N0...  14   3\n",
       "Parkinson's Disease (G20)                            1   0\n",
       "Septicemia (A40-A41)                                11   2\n",
       "Tuberculosis (A16-A19)                               1   0\n",
       "Viral Hepatitis (B15-B19)                            2   3"
      ]
     },
     "execution_count": 14,
     "metadata": {},
     "output_type": "execute_result"
    }
   ],
   "source": [
    "cause_by_sex = pd.crosstab(df['Leading Cause'],df['Sex'] )\n",
    "cause_by_sex"
   ]
  },
  {
   "cell_type": "markdown",
   "metadata": {},
   "source": [
    "Alzheimer's Disease (G30) affects women way more than males (31:1)."
   ]
  },
  {
   "cell_type": "markdown",
   "metadata": {},
   "source": [
    "### Step 7:  Are there any duplicate records in this dataset?  Code it below and add a comment with your answer"
   ]
  },
  {
   "cell_type": "code",
   "execution_count": null,
   "metadata": {},
   "outputs": [
    {
     "name": "stdout",
     "output_type": "stream",
     "text": [
      "Year : 1086\n",
      "Leading Cause : 1068\n",
      "Sex : 1092\n",
      "Race Ethnicity : 1088\n",
      "Deaths : 629\n",
      "Death Rate : 652\n",
      "Age Adjusted Death Rate : 667\n"
     ]
    }
   ],
   "source": [
    "keys = list(df.keys())\n",
    "for i in keys:\n",
    "    print(i,\":\", df[i].duplicated().sum())\n",
    "    "
   ]
  },
  {
   "cell_type": "markdown",
   "metadata": {},
   "source": [
    "## Above and Beyond (AAB)  -- OPTIONAL\n",
    "\n",
    "### Question 1:  What year had the most deaths?"
   ]
  },
  {
   "cell_type": "code",
   "execution_count": null,
   "metadata": {},
   "outputs": [
    {
     "data": {
      "text/plain": [
       "Year\n",
       "2007    141\n",
       "2008    136\n",
       "2009    135\n",
       "2010    138\n",
       "2011    141\n",
       "2012    134\n",
       "2013    133\n",
       "2014    136\n",
       "dtype: int64"
      ]
     },
     "execution_count": 25,
     "metadata": {},
     "output_type": "execute_result"
    }
   ],
   "source": [
    "df.groupby('Year')['Deaths'].sum()"
   ]
  },
  {
   "cell_type": "markdown",
   "metadata": {},
   "source": [
    "2007 and 2011 had the most deaths"
   ]
  },
  {
   "cell_type": "markdown",
   "metadata": {},
   "source": [
    "### Question 2:  Change the 'Death Rate' column to a float.  Why would you want to do this?"
   ]
  },
  {
   "cell_type": "code",
   "execution_count": null,
   "metadata": {},
   "outputs": [
    {
     "data": {
      "text/plain": [
       "dtype('float64')"
      ]
     },
     "execution_count": 30,
     "metadata": {},
     "output_type": "execute_result"
    }
   ],
   "source": [
    "df['Death Rate'] = df['Death Rate'].astype(float)\n"
   ]
  },
  {
   "cell_type": "markdown",
   "metadata": {},
   "source": [
    "You might want to convert to float because a) its a decimal value and b) in order to do calculations on the values. "
   ]
  }
 ],
 "metadata": {
  "kernelspec": {
   "display_name": "data-analysis-env",
   "language": "python",
   "name": "python3"
  },
  "language_info": {
   "codemirror_mode": {
    "name": "ipython",
    "version": 3
   },
   "file_extension": ".py",
   "mimetype": "text/x-python",
   "name": "python",
   "nbconvert_exporter": "python",
   "pygments_lexer": "ipython3",
   "version": "3.9.22"
  }
 },
 "nbformat": 4,
 "nbformat_minor": 2
}
