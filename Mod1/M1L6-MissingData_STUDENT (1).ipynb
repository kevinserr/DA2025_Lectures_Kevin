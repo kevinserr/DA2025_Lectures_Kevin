{
 "cells": [
  {
   "cell_type": "markdown",
   "metadata": {},
   "source": [
    "# M1L6 Data Challenge:  Missing Data\n",
    "\n",
    "## Scenario\n",
    "\n",
    "You are continuing your analysis of the \"New York City Leading Causes of Death\" dataset.  You've noticed that the Deaths and Death Rate columns contain some missing values, represented by periods ('.').  Missing data is a common issue in real-world datasets, and it's crucial to handle it appropriately to avoid biased or inaccurate conclusions.\n",
    "\n",
    "\n",
    "For more information about the data (which is highly recommended) here is the [Link to the Data](https://data.cityofnewyork.us/Health/New-York-City-Leading-Causes-of-Death/jb7j-dtam/about_data)\n",
    "\n",
    "## Objectives \n",
    "\n",
    "- Create missing value indicator columns.\n",
    "- Identify the extent of missing data in the Deaths and Death Rate columns.\n",
    "- Impute these missing values using appropriate strategies.\n",
    "\n",
    "\n",
    "\n",
    "**Let's get started!**"
   ]
  },
  {
   "cell_type": "markdown",
   "metadata": {},
   "source": [
    "### Step 1:  Import Pandas & Numpy"
   ]
  },
  {
   "cell_type": "code",
   "execution_count": 2,
   "metadata": {},
   "outputs": [],
   "source": [
    "# Import Pandas \n",
    "import pandas as pd\n",
    "import numpy as np"
   ]
  },
  {
   "cell_type": "markdown",
   "metadata": {},
   "source": [
    "### Step 2: Load the dataset (csv file stored in the data folder) into a Pandas DataFrame. \n",
    "\n",
    "The file is called:  `nyc_causeofdeath.csv`\n"
   ]
  },
  {
   "cell_type": "code",
   "execution_count": 3,
   "metadata": {},
   "outputs": [],
   "source": [
    "df = pd.read_csv('/Users/Marcy_Student/Desktop/marcy/DA2025_Lectures_Kevin/data/New_York_City_Leading_Causes_of_Death_20250605.csv')"
   ]
  },
  {
   "cell_type": "markdown",
   "metadata": {},
   "source": [
    "### Step 3: Count up the number of missing values in 2 columns\n",
    "\n",
    "a.  Use value_counts() to determine the number of missing values (represented by '.') in the `Deaths` and `Death Rate` columns.  Print the value counts for each column.  Be sure to set dropna=False as an argument within value_counts()\n",
    "\n",
    "b.  Add a comment for the number of missig values (aka periods '.') are in each column\n"
   ]
  },
  {
   "cell_type": "code",
   "execution_count": 4,
   "metadata": {},
   "outputs": [
    {
     "name": "stdout",
     "output_type": "stream",
     "text": [
      "Deaths\n",
      ".       138\n",
      "5        28\n",
      "8        22\n",
      "6        21\n",
      "7        15\n",
      "       ... \n",
      "261       1\n",
      "171       1\n",
      "1097      1\n",
      "299       1\n",
      "93        1\n",
      "Name: count, Length: 465, dtype: int64\n",
      "Death Rate\n",
      ".        386\n",
      "13         7\n",
      "17.3       7\n",
      "11.4       6\n",
      "16.3       6\n",
      "        ... \n",
      "19         1\n",
      "6.9        1\n",
      "91.6       1\n",
      "35.1       1\n",
      "170.3      1\n",
      "Name: count, Length: 442, dtype: int64\n"
     ]
    }
   ],
   "source": [
    "#Comment 1:  \n",
    "print(df['Deaths'].value_counts())\n",
    "#Comment 2:  \n",
    "print(df['Death Rate'].value_counts())"
   ]
  },
  {
   "cell_type": "markdown",
   "metadata": {},
   "source": [
    "Death has 138 missing values\n",
    "Death Rate has 386 missing values. "
   ]
  },
  {
   "cell_type": "markdown",
   "metadata": {},
   "source": [
    "### Step 4:  Replace periods with NaN (not a number) and convert to numeric \n",
    "\n",
    "- a. Replace the '.' values in the `Deaths` and `Death Rate` columns with `np.nan`.\n",
    "- b. Convert the `Deaths` and `Death Rate` columns to numeric.\n",
    "\n",
    "This may take several lines of code"
   ]
  },
  {
   "cell_type": "code",
   "execution_count": null,
   "metadata": {},
   "outputs": [
    {
     "name": "stdout",
     "output_type": "stream",
     "text": [
      "float64\n"
     ]
    }
   ],
   "source": [
    "df['Deaths'] = df['Deaths'].replace('.', np.nan)\n",
    "df['Death Rate'] = df['Death Rate'].replace('.', np.nan)\n",
    "\n",
    "df['Deaths'] = pd.to_numeric(df['Deaths'])\n",
    "df['Death Rate'] = pd.to_numeric(df['Death Rate'])\n",
    "\n",
    "\n"
   ]
  },
  {
   "cell_type": "markdown",
   "metadata": {},
   "source": [
    "### Step 5:  Check the data's info again \n",
    "\n",
    "Run a `.info()` to see if the columns have missing data in them -- they should!"
   ]
  },
  {
   "cell_type": "code",
   "execution_count": 19,
   "metadata": {},
   "outputs": [
    {
     "name": "stdout",
     "output_type": "stream",
     "text": [
      "<class 'pandas.core.frame.DataFrame'>\n",
      "RangeIndex: 1094 entries, 0 to 1093\n",
      "Data columns (total 7 columns):\n",
      " #   Column                   Non-Null Count  Dtype  \n",
      "---  ------                   --------------  -----  \n",
      " 0   Year                     1094 non-null   int64  \n",
      " 1   Leading Cause            1094 non-null   object \n",
      " 2   Sex                      1094 non-null   object \n",
      " 3   Race Ethnicity           1094 non-null   object \n",
      " 4   Deaths                   956 non-null    float64\n",
      " 5   Death Rate               708 non-null    float64\n",
      " 6   Age Adjusted Death Rate  1094 non-null   object \n",
      "dtypes: float64(2), int64(1), object(4)\n",
      "memory usage: 60.0+ KB\n"
     ]
    }
   ],
   "source": [
    "df.info()"
   ]
  },
  {
   "cell_type": "markdown",
   "metadata": {},
   "source": [
    "## Step 6:  Create a missing inidcator (run the code below without changes)\n",
    "\n",
    "-  This column will have a 1 if the row is missing a value in a respective column and 0 if it is not \n",
    "\n",
    "-  Add a comment about what the np.where() function is (feel free to use documentation)"
   ]
  },
  {
   "cell_type": "code",
   "execution_count": 20,
   "metadata": {},
   "outputs": [],
   "source": [
    "#Run this cell without changes \n",
    "\n",
    "df['Deaths_missing'] = np.where(df['Deaths'].isna(), 1, 0)\n",
    "df['Death_Rate_missing'] = np.where(df['Death Rate'].isna(), 1, 0)"
   ]
  },
  {
   "cell_type": "markdown",
   "metadata": {},
   "source": [
    "### Step 7:  Calculate the median for each column "
   ]
  },
  {
   "cell_type": "code",
   "execution_count": 24,
   "metadata": {},
   "outputs": [
    {
     "name": "stdout",
     "output_type": "stream",
     "text": [
      "Death Median: 148.5 \n",
      "Death Rate Median: 18.35\n"
     ]
    }
   ],
   "source": [
    "deathsMedian = df['Deaths'].median()\n",
    "deathRateMedian =df['Death Rate'].median()\n",
    "print('Death Median:',deathsMedian,'\\nDeath Rate Median:',deathRateMedian)"
   ]
  },
  {
   "cell_type": "markdown",
   "metadata": {},
   "source": [
    "### Step 8:  Use the median to fill in each column's missing values (aka impute)\n",
    "\n",
    "Hint:  Use `fillna()` with the median values you created above."
   ]
  },
  {
   "cell_type": "code",
   "execution_count": 26,
   "metadata": {},
   "outputs": [],
   "source": [
    "df['Deaths'] = df['Deaths'].fillna(deathsMedian)\n",
    "\n",
    "df['Death Rate'] = df['Death Rate'].fillna(deathRateMedian)"
   ]
  },
  {
   "cell_type": "code",
   "execution_count": 27,
   "metadata": {},
   "outputs": [
    {
     "name": "stdout",
     "output_type": "stream",
     "text": [
      "<class 'pandas.core.frame.DataFrame'>\n",
      "RangeIndex: 1094 entries, 0 to 1093\n",
      "Data columns (total 9 columns):\n",
      " #   Column                   Non-Null Count  Dtype  \n",
      "---  ------                   --------------  -----  \n",
      " 0   Year                     1094 non-null   int64  \n",
      " 1   Leading Cause            1094 non-null   object \n",
      " 2   Sex                      1094 non-null   object \n",
      " 3   Race Ethnicity           1094 non-null   object \n",
      " 4   Deaths                   1094 non-null   float64\n",
      " 5   Death Rate               1094 non-null   float64\n",
      " 6   Age Adjusted Death Rate  1094 non-null   object \n",
      " 7   Deaths_missing           1094 non-null   int64  \n",
      " 8   Death_Rate_missing       1094 non-null   int64  \n",
      "dtypes: float64(2), int64(3), object(4)\n",
      "memory usage: 77.0+ KB\n"
     ]
    }
   ],
   "source": [
    "#Check the info to see if imputation worked \n",
    "\n",
    "df.info()"
   ]
  },
  {
   "cell_type": "markdown",
   "metadata": {},
   "source": [
    "## Above and Beyond (AAB)  -- OPTIONAL\n",
    "\n",
    "### Question 1:  What year had the most deaths?"
   ]
  },
  {
   "cell_type": "code",
   "execution_count": 28,
   "metadata": {},
   "outputs": [
    {
     "data": {
      "text/plain": [
       "Year\n",
       "2007    141\n",
       "2011    141\n",
       "2010    138\n",
       "2014    136\n",
       "2008    136\n",
       "2009    135\n",
       "2012    134\n",
       "2013    133\n",
       "Name: count, dtype: int64"
      ]
     },
     "execution_count": 28,
     "metadata": {},
     "output_type": "execute_result"
    }
   ],
   "source": [
    "df['Year'].value_counts()"
   ]
  },
  {
   "cell_type": "markdown",
   "metadata": {},
   "source": [
    "2007 and 2011 had the most deaths"
   ]
  },
  {
   "cell_type": "markdown",
   "metadata": {},
   "source": [
    "### Question 2:  Change the 'Death Rate' column to a float.  \n",
    "\n",
    "Why would you want to do this?  Add a comment answering this question."
   ]
  },
  {
   "cell_type": "code",
   "execution_count": 29,
   "metadata": {},
   "outputs": [
    {
     "data": {
      "text/plain": [
       "dtype('float64')"
      ]
     },
     "execution_count": 29,
     "metadata": {},
     "output_type": "execute_result"
    }
   ],
   "source": [
    "df['Death Rate'] = pd.to_numeric(df['Death Rate'])\n",
    "df['Death Rate'].dtypes\n"
   ]
  }
 ],
 "metadata": {
  "kernelspec": {
   "display_name": "data-analysis-env",
   "language": "python",
   "name": "python3"
  },
  "language_info": {
   "codemirror_mode": {
    "name": "ipython",
    "version": 3
   },
   "file_extension": ".py",
   "mimetype": "text/x-python",
   "name": "python",
   "nbconvert_exporter": "python",
   "pygments_lexer": "ipython3",
   "version": "3.9.22"
  }
 },
 "nbformat": 4,
 "nbformat_minor": 2
}
