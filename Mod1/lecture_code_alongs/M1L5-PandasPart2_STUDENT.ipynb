{
 "cells": [
  {
   "cell_type": "markdown",
   "metadata": {},
   "source": [
    "# M1L5 More EDA with Pandas \n",
    "\n",
    "This notebook will guide you through some essential data manipulation techniques using the Pandas library in Python. We'll be working with the Austin Animal Center Intakes dataset, which contains information about animals entering the Austin Animal Center.\n",
    "\n",
    "### **Dataset:** [Austin Animal Center Intakes](https://catalog.data.gov/dataset/austin-animal-center-intakes) -- This is also in your data folder \n",
    "\n",
    "### **Objectives:**\n",
    "\n",
    " 1.  Load and explore the dataset.\n",
    " 2.  Use `groupby()` to aggregate data.\n",
    " 3.  Create contingency tables using `crosstab()`.\n",
    " 4.  Identify and handle duplicate entries."
   ]
  },
  {
   "cell_type": "markdown",
   "metadata": {},
   "source": [
    "## Step 1:  Import pandas and numpy "
   ]
  },
  {
   "cell_type": "code",
   "execution_count": 1,
   "metadata": {},
   "outputs": [],
   "source": [
    "#Import packages \n",
    "\n",
    "import pandas as pd\n",
    "import numpy as np"
   ]
  },
  {
   "cell_type": "markdown",
   "metadata": {},
   "source": [
    "## Step 2:  Load in the data and save it as `df`"
   ]
  },
  {
   "cell_type": "code",
   "execution_count": 4,
   "metadata": {},
   "outputs": [],
   "source": [
    "df = pd.read_csv('/Users/Marcy_Student/Desktop/marcy/DA2025_Lectures_Kevin/Mod1/lecture_code_alongs/AustinAnimalCenterIntakes.csv', delimiter=',')"
   ]
  },
  {
   "cell_type": "markdown",
   "metadata": {},
   "source": [
    "## Step 3:  Look at the data (can you think of some methods to do this)"
   ]
  },
  {
   "cell_type": "code",
   "execution_count": 7,
   "metadata": {},
   "outputs": [
    {
     "name": "stdout",
     "output_type": "stream",
     "text": [
      "Animal ID           object\n",
      "Name                object\n",
      "DateTime            object\n",
      "MonthYear           object\n",
      "Found Location      object\n",
      "Intake Type         object\n",
      "Intake Condition    object\n",
      "Animal Type         object\n",
      "Sex upon Intake     object\n",
      "Age upon Intake     object\n",
      "Breed               object\n",
      "Color               object\n",
      "dtype: object\n"
     ]
    }
   ],
   "source": [
    "print(df.dtypes)"
   ]
  },
  {
   "cell_type": "markdown",
   "metadata": {},
   "source": [
    "## Step 4:  Count up how many missing values exist in each column (you would need to chain two methods here -- one to check for missing values and the other to sum missing values up)"
   ]
  },
  {
   "cell_type": "code",
   "execution_count": 25,
   "metadata": {},
   "outputs": [
    {
     "data": {
      "text/plain": [
       "Animal ID               0\n",
       "Name                49991\n",
       "DateTime                0\n",
       "MonthYear               0\n",
       "Found Location          0\n",
       "Intake Type             0\n",
       "Intake Condition        0\n",
       "Animal Type             0\n",
       "Sex upon Intake         1\n",
       "Age upon Intake         0\n",
       "Breed                   0\n",
       "Color                   0\n",
       "dtype: int64"
      ]
     },
     "execution_count": 25,
     "metadata": {},
     "output_type": "execute_result"
    }
   ],
   "source": [
    "df.isnull().sum()"
   ]
  },
  {
   "cell_type": "markdown",
   "metadata": {},
   "source": [
    "## Step 5:  Count up the amount of animals by Animal Type "
   ]
  },
  {
   "cell_type": "code",
   "execution_count": 29,
   "metadata": {},
   "outputs": [
    {
     "name": "stdout",
     "output_type": "stream",
     "text": [
      "Animal Type\n",
      "Dog          94608\n",
      "Cat          69324\n",
      "Other         8968\n",
      "Bird           878\n",
      "Livestock       34\n",
      "Name: count, dtype: int64\n"
     ]
    }
   ],
   "source": [
    "animal_counts = df['Animal Type'].value_counts()\n",
    "print(animal_counts)"
   ]
  },
  {
   "cell_type": "markdown",
   "metadata": {},
   "source": [
    "## Step 6:  Create a crosstab showing the count of animal types for each intake condition."
   ]
  },
  {
   "cell_type": "code",
   "execution_count": 33,
   "metadata": {},
   "outputs": [
    {
     "name": "stdout",
     "output_type": "stream",
     "text": [
      "Animal Type       Bird    Cat    Dog  Livestock  Other\n",
      "Intake Condition                                      \n",
      "Aged                 0     77    445          0      3\n",
      "Agonal               0      3      1          0      0\n",
      "Behavior             0      8     73          0      0\n",
      "Congenital           0      0      1          0      0\n",
      "Feral                0    133     11          0      1\n",
      "Injured            249   4339   5000          2   1215\n",
      "Med Attn             0     27     60          0      0\n",
      "Med Urgent           0     11     10          0      0\n",
      "Medical              0    213    391          0     10\n",
      "Neonatal             1   1467    476          1     26\n",
      "Neurologic           0      5      6          0      2\n",
      "Normal             603  57032  83773         28   5705\n",
      "Nursing              0   2559   1214          0    105\n",
      "Other                8    110    229          0      6\n",
      "Panleuk              0      1      0          0      0\n",
      "Parvo                0      0     11          0      0\n",
      "Pregnant             0     41    129          0      0\n",
      "Sick                17   3287   2756          3   1876\n",
      "Space                0      4      0          0      0\n",
      "Unknown              0      7     22          0     19\n"
     ]
    }
   ],
   "source": [
    "cross_table = pd.crosstab(df['Intake Condition'],df['Animal Type'])\n",
    "print(cross_table)"
   ]
  },
  {
   "cell_type": "markdown",
   "metadata": {},
   "source": [
    "## Step 7:  Check for duplicate Animal IDs (pay close attention to the syntax here)"
   ]
  },
  {
   "cell_type": "code",
   "execution_count": 35,
   "metadata": {},
   "outputs": [
    {
     "name": "stdout",
     "output_type": "stream",
     "text": [
      "17525\n"
     ]
    }
   ],
   "source": [
    "duplicate_ids = df['Animal ID'].duplicated().sum()\n",
    "print(duplicate_ids)"
   ]
  },
  {
   "cell_type": "markdown",
   "metadata": {},
   "source": [
    "## Practice Joining Data "
   ]
  },
  {
   "cell_type": "markdown",
   "metadata": {},
   "source": [
    "### Scenario 1\n",
    "You have customer data split into two different files (DataFrames),\n",
    "and you want to combine them into a single DataFrame for analysis."
   ]
  },
  {
   "cell_type": "code",
   "execution_count": 36,
   "metadata": {},
   "outputs": [],
   "source": [
    "# Run the cell without changes to create the two dataframes \n",
    "\n",
    "customers_part1_df = pd.DataFrame({'CustomerID': [101, 102, 103],\n",
    "                                   'FirstName': ['Alice', 'Bob', 'Charlie'],\n",
    "                                   'City': ['Anytown', 'Otherville', 'Smallburg']})\n",
    "\n",
    "customers_part2_df = pd.DataFrame({'CustomerID': [104, 105, 106],\n",
    "                                   'FirstName': ['David', 'Emily', 'Frank'],\n",
    "                                   'City': ['Bigcity', 'Townsville', 'Villageton']})"
   ]
  },
  {
   "cell_type": "markdown",
   "metadata": {},
   "source": [
    "### Scenario 1 Task:  Use `pd.concat()` to stack the two dataframes above (afterall they have the same columns)"
   ]
  },
  {
   "cell_type": "code",
   "execution_count": 39,
   "metadata": {},
   "outputs": [
    {
     "data": {
      "text/html": [
       "<div>\n",
       "<style scoped>\n",
       "    .dataframe tbody tr th:only-of-type {\n",
       "        vertical-align: middle;\n",
       "    }\n",
       "\n",
       "    .dataframe tbody tr th {\n",
       "        vertical-align: top;\n",
       "    }\n",
       "\n",
       "    .dataframe thead th {\n",
       "        text-align: right;\n",
       "    }\n",
       "</style>\n",
       "<table border=\"1\" class=\"dataframe\">\n",
       "  <thead>\n",
       "    <tr style=\"text-align: right;\">\n",
       "      <th></th>\n",
       "      <th>CustomerID</th>\n",
       "      <th>FirstName</th>\n",
       "      <th>City</th>\n",
       "    </tr>\n",
       "  </thead>\n",
       "  <tbody>\n",
       "    <tr>\n",
       "      <th>0</th>\n",
       "      <td>101</td>\n",
       "      <td>Alice</td>\n",
       "      <td>Anytown</td>\n",
       "    </tr>\n",
       "    <tr>\n",
       "      <th>1</th>\n",
       "      <td>102</td>\n",
       "      <td>Bob</td>\n",
       "      <td>Otherville</td>\n",
       "    </tr>\n",
       "    <tr>\n",
       "      <th>2</th>\n",
       "      <td>103</td>\n",
       "      <td>Charlie</td>\n",
       "      <td>Smallburg</td>\n",
       "    </tr>\n",
       "    <tr>\n",
       "      <th>3</th>\n",
       "      <td>104</td>\n",
       "      <td>David</td>\n",
       "      <td>Bigcity</td>\n",
       "    </tr>\n",
       "    <tr>\n",
       "      <th>4</th>\n",
       "      <td>105</td>\n",
       "      <td>Emily</td>\n",
       "      <td>Townsville</td>\n",
       "    </tr>\n",
       "    <tr>\n",
       "      <th>5</th>\n",
       "      <td>106</td>\n",
       "      <td>Frank</td>\n",
       "      <td>Villageton</td>\n",
       "    </tr>\n",
       "  </tbody>\n",
       "</table>\n",
       "</div>"
      ],
      "text/plain": [
       "   CustomerID FirstName        City\n",
       "0         101     Alice     Anytown\n",
       "1         102       Bob  Otherville\n",
       "2         103   Charlie   Smallburg\n",
       "3         104     David     Bigcity\n",
       "4         105     Emily  Townsville\n",
       "5         106     Frank  Villageton"
      ]
     },
     "execution_count": 39,
     "metadata": {},
     "output_type": "execute_result"
    }
   ],
   "source": [
    "all_customers_df = pd.concat([customers_part1_df, customers_part2_df], ignore_index=True)\n",
    "all_customers_df"
   ]
  },
  {
   "cell_type": "markdown",
   "metadata": {},
   "source": [
    "### Scenario 2"
   ]
  },
  {
   "cell_type": "markdown",
   "metadata": {},
   "source": [
    "Combining customer details and loyalty points."
   ]
  },
  {
   "cell_type": "code",
   "execution_count": 40,
   "metadata": {},
   "outputs": [],
   "source": [
    "# Run the cell without changes to create the two dataframes \n",
    "\n",
    "customer_details_df = pd.DataFrame({'CustomerID': [101, 102, 103],\n",
    "                                    'Name': ['Alice', 'Bob', 'Charlie'],\n",
    "                                    'City': ['Anytown', 'Otherville', 'Smallburg']})\n",
    "\n",
    "loyalty_points_df = pd.DataFrame({'CustomerID': [101, 102, 103],\n",
    "                                  'Points': [100, 250, 50]})"
   ]
  },
  {
   "cell_type": "markdown",
   "metadata": {},
   "source": [
    "### Scenario 2 Task :  Merge the DataFrames on CustomerID\n"
   ]
  },
  {
   "cell_type": "code",
   "execution_count": 42,
   "metadata": {},
   "outputs": [
    {
     "data": {
      "text/html": [
       "<div>\n",
       "<style scoped>\n",
       "    .dataframe tbody tr th:only-of-type {\n",
       "        vertical-align: middle;\n",
       "    }\n",
       "\n",
       "    .dataframe tbody tr th {\n",
       "        vertical-align: top;\n",
       "    }\n",
       "\n",
       "    .dataframe thead th {\n",
       "        text-align: right;\n",
       "    }\n",
       "</style>\n",
       "<table border=\"1\" class=\"dataframe\">\n",
       "  <thead>\n",
       "    <tr style=\"text-align: right;\">\n",
       "      <th></th>\n",
       "      <th>CustomerID</th>\n",
       "      <th>Name</th>\n",
       "      <th>City</th>\n",
       "      <th>Points</th>\n",
       "    </tr>\n",
       "  </thead>\n",
       "  <tbody>\n",
       "    <tr>\n",
       "      <th>0</th>\n",
       "      <td>101</td>\n",
       "      <td>Alice</td>\n",
       "      <td>Anytown</td>\n",
       "      <td>100</td>\n",
       "    </tr>\n",
       "    <tr>\n",
       "      <th>1</th>\n",
       "      <td>102</td>\n",
       "      <td>Bob</td>\n",
       "      <td>Otherville</td>\n",
       "      <td>250</td>\n",
       "    </tr>\n",
       "    <tr>\n",
       "      <th>2</th>\n",
       "      <td>103</td>\n",
       "      <td>Charlie</td>\n",
       "      <td>Smallburg</td>\n",
       "      <td>50</td>\n",
       "    </tr>\n",
       "  </tbody>\n",
       "</table>\n",
       "</div>"
      ],
      "text/plain": [
       "   CustomerID     Name        City  Points\n",
       "0         101    Alice     Anytown     100\n",
       "1         102      Bob  Otherville     250\n",
       "2         103  Charlie   Smallburg      50"
      ]
     },
     "execution_count": 42,
     "metadata": {},
     "output_type": "execute_result"
    }
   ],
   "source": [
    "merged_customer_df = pd.merge(customer_details_df, loyalty_points_df, on = 'CustomerID', how='outer')\n",
    "merged_customer_df"
   ]
  }
 ],
 "metadata": {
  "kernelspec": {
   "display_name": "data-analysis-env",
   "language": "python",
   "name": "python3"
  },
  "language_info": {
   "codemirror_mode": {
    "name": "ipython",
    "version": 3
   },
   "file_extension": ".py",
   "mimetype": "text/x-python",
   "name": "python",
   "nbconvert_exporter": "python",
   "pygments_lexer": "ipython3",
   "version": "3.9.22"
  }
 },
 "nbformat": 4,
 "nbformat_minor": 2
}
